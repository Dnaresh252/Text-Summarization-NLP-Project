{
 "cells": [
  {
   "cell_type": "code",
   "execution_count": 1,
   "metadata": {},
   "outputs": [],
   "source": [
    "import os"
   ]
  },
  {
   "cell_type": "code",
   "execution_count": 2,
   "metadata": {},
   "outputs": [
    {
     "data": {
      "text/plain": [
       "'c:\\\\NLP PROJECTS\\\\Text-Summarization-NLP-Project\\\\research'"
      ]
     },
     "execution_count": 2,
     "metadata": {},
     "output_type": "execute_result"
    }
   ],
   "source": [
    "%pwd"
   ]
  },
  {
   "cell_type": "code",
   "execution_count": 3,
   "metadata": {},
   "outputs": [],
   "source": [
    "os.chdir(\"../\")"
   ]
  },
  {
   "cell_type": "code",
   "execution_count": 4,
   "metadata": {},
   "outputs": [
    {
     "data": {
      "text/plain": [
       "'c:\\\\NLP PROJECTS\\\\Text-Summarization-NLP-Project'"
      ]
     },
     "execution_count": 4,
     "metadata": {},
     "output_type": "execute_result"
    }
   ],
   "source": [
    "%pwd"
   ]
  },
  {
   "cell_type": "code",
   "execution_count": 11,
   "metadata": {},
   "outputs": [
    {
     "name": "stdout",
     "output_type": "stream",
     "text": [
      "[2025-03-22 17:40:24,548: INFO: common: yaml file: config\\config.yaml loaded successfully]\n",
      "[2025-03-22 17:40:24,556: INFO: common: yaml file: params.yaml loaded successfully]\n",
      "[2025-03-22 17:40:24,559: INFO: common: created directory at: artifacts]\n",
      "[2025-03-22 17:40:24,561: INFO: common: created directory at: artifacts\\data_validation]\n",
      "[2025-03-22 17:40:24,564: INFO: 1378558350: Validation status: True]\n"
     ]
    }
   ],
   "source": [
    "import os\n",
    "from dataclasses import dataclass\n",
    "from pathlib import Path\n",
    "from textSummarizer.constants import CONFIG_FILE_PATH, PARAMS_FILE_PATH\n",
    "from textSummarizer.utils.common import read_yaml, create_directories\n",
    "from textSummarizer.logging import logger\n",
    "\n",
    "# ✅ Fix 1: Define DataValidationConfig Correctly\n",
    "@dataclass(frozen=True)\n",
    "class DataValidationConfig:\n",
    "    root_dir: Path\n",
    "    STATUS_FILE: Path  # ✅ Changed str to Path\n",
    "    ALL_REQUIRED_FILES: list\n",
    "\n",
    "# ✅ Fix 2: Properly Initialize ConfigurationManager\n",
    "class ConfigurationManager:\n",
    "    def __init__(\n",
    "        self,\n",
    "        config_filepath=Path(CONFIG_FILE_PATH),  # ✅ Convert to Path\n",
    "        params_filepath=Path(PARAMS_FILE_PATH)   # ✅ Convert to Path\n",
    "    ):\n",
    "        self.config = read_yaml(config_filepath)\n",
    "        self.params = read_yaml(params_filepath)\n",
    "\n",
    "        create_directories([self.config.artifacts_root])\n",
    "\n",
    "    def get_data_validation_config(self) -> DataValidationConfig:\n",
    "        config = self.config.data_validation\n",
    "\n",
    "        # ✅ Fix 3: Convert Paths Properly\n",
    "        root_dir = Path(config.root_dir)\n",
    "        status_file = Path(config.STATUS_FILE)\n",
    "\n",
    "        create_directories([root_dir])\n",
    "\n",
    "        data_validation_config = DataValidationConfig(\n",
    "            root_dir=root_dir,\n",
    "            STATUS_FILE=status_file,\n",
    "            ALL_REQUIRED_FILES=config.ALL_REQUIRED_FILES,\n",
    "        )\n",
    "\n",
    "        return data_validation_config\n",
    "\n",
    "# ✅ Fix 4: Corrected Class Name (Spelling Mistake)\n",
    "class DataValidation:\n",
    "    def __init__(self, config: DataValidationConfig):\n",
    "        self.config = config\n",
    "\n",
    "    def validate_all_files_exist(self) -> bool:\n",
    "        try:\n",
    "            validation_status = True\n",
    "            dataset_path = Path(\"artifacts/data_ingestion/samsum_dataset\")\n",
    "\n",
    "            if not dataset_path.exists():\n",
    "                logger.error(f\"Dataset path {dataset_path} does not exist.\")\n",
    "                return False\n",
    "\n",
    "            all_files = os.listdir(dataset_path)\n",
    "\n",
    "            for file in self.config.ALL_REQUIRED_FILES:\n",
    "                if file not in all_files:\n",
    "                    validation_status = False\n",
    "                    logger.error(f\"Missing file: {file}\")\n",
    "            \n",
    "            # ✅ Fix 5: Use Path for Status File\n",
    "            with self.config.STATUS_FILE.open('w') as f:\n",
    "                f.write(f\"Validation status: {validation_status}\")\n",
    "\n",
    "            logger.info(f\"Validation status: {validation_status}\")\n",
    "            return validation_status\n",
    "\n",
    "        except Exception as e:\n",
    "            raise RuntimeError(f\"File validation error: {e}\")\n",
    "\n",
    "# ✅ Running the Code Safely\n",
    "try:\n",
    "    config = ConfigurationManager()\n",
    "    data_validation_config = config.get_data_validation_config()\n",
    "    data_validation = DataValidation(config=data_validation_config)\n",
    "    data_validation.validate_all_files_exist()\n",
    "except Exception as e:\n",
    "    raise RuntimeError(f\"Data validation failed: {e}\")\n"
   ]
  },
  {
   "cell_type": "code",
   "execution_count": null,
   "metadata": {},
   "outputs": [],
   "source": []
  }
 ],
 "metadata": {
  "kernelspec": {
   "display_name": "textS",
   "language": "python",
   "name": "python3"
  },
  "language_info": {
   "codemirror_mode": {
    "name": "ipython",
    "version": 3
   },
   "file_extension": ".py",
   "mimetype": "text/x-python",
   "name": "python",
   "nbconvert_exporter": "python",
   "pygments_lexer": "ipython3",
   "version": "3.8.20"
  }
 },
 "nbformat": 4,
 "nbformat_minor": 2
}
