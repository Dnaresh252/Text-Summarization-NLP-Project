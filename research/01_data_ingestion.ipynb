{
 "cells": [
  {
   "cell_type": "code",
   "execution_count": 4,
   "metadata": {},
   "outputs": [],
   "source": [
    "import os"
   ]
  },
  {
   "cell_type": "code",
   "execution_count": 2,
   "metadata": {},
   "outputs": [
    {
     "data": {
      "text/plain": [
       "'c:\\\\NLP PROJECTS\\\\Text-Summarization-NLP-Project\\\\research'"
      ]
     },
     "execution_count": 2,
     "metadata": {},
     "output_type": "execute_result"
    }
   ],
   "source": [
    "%pwd"
   ]
  },
  {
   "cell_type": "code",
   "execution_count": 3,
   "metadata": {},
   "outputs": [],
   "source": [
    "os.chdir(\"../\")"
   ]
  },
  {
   "cell_type": "code",
   "execution_count": 5,
   "metadata": {},
   "outputs": [
    {
     "data": {
      "text/plain": [
       "'c:\\\\NLP PROJECTS\\\\Text-Summarization-NLP-Project'"
      ]
     },
     "execution_count": 5,
     "metadata": {},
     "output_type": "execute_result"
    }
   ],
   "source": [
    "%pwd"
   ]
  },
  {
   "cell_type": "code",
   "execution_count": 13,
   "metadata": {},
   "outputs": [
    {
     "name": "stdout",
     "output_type": "stream",
     "text": [
      "[2025-03-22 17:28:25,069: INFO: common: yaml file: config\\config.yaml loaded successfully]\n",
      "[2025-03-22 17:28:25,078: INFO: common: yaml file: params.yaml loaded successfully]\n",
      "[2025-03-22 17:28:25,080: INFO: common: created directory at: artifacts]\n",
      "[2025-03-22 17:28:25,082: INFO: common: created directory at: artifacts\\data_ingestion]\n",
      "[2025-03-22 17:28:33,520: INFO: 1764291647: artifacts\\data_ingestion\\data.zip downloaded! Info:\n",
      "Connection: close\n",
      "Content-Length: 7903594\n",
      "Cache-Control: max-age=300\n",
      "Content-Security-Policy: default-src 'none'; style-src 'unsafe-inline'; sandbox\n",
      "Content-Type: application/zip\n",
      "ETag: \"dbc016a060da18070593b83afff580c9b300f0b6ea4147a7988433e04df246ca\"\n",
      "Strict-Transport-Security: max-age=31536000\n",
      "X-Content-Type-Options: nosniff\n",
      "X-Frame-Options: deny\n",
      "X-XSS-Protection: 1; mode=block\n",
      "X-GitHub-Request-Id: 1549:1BE757:27349A:490AC6:67DE9EBF\n",
      "Accept-Ranges: bytes\n",
      "Date: Sat, 22 Mar 2025 11:58:29 GMT\n",
      "Via: 1.1 varnish\n",
      "X-Served-By: cache-bom4723-BOM\n",
      "X-Cache: HIT\n",
      "X-Cache-Hits: 0\n",
      "X-Timer: S1742644709.982411,VS0,VE264\n",
      "Vary: Authorization,Accept-Encoding,Origin\n",
      "Access-Control-Allow-Origin: *\n",
      "Cross-Origin-Resource-Policy: cross-origin\n",
      "X-Fastly-Request-ID: a392a1a59ac6497bab48a1b4edbbbca4efe933cd\n",
      "Expires: Sat, 22 Mar 2025 12:03:29 GMT\n",
      "Source-Age: 0\n",
      "\n",
      "]\n",
      "[2025-03-22 17:28:33,697: INFO: 1764291647: Extracted artifacts\\data_ingestion\\data.zip to artifacts\\data_ingestion]\n"
     ]
    }
   ],
   "source": [
    "import os\n",
    "import urllib.request as request\n",
    "import zipfile\n",
    "from pathlib import Path\n",
    "from dataclasses import dataclass\n",
    "from textSummarizer.constants import CONFIG_FILE_PATH, PARAMS_FILE_PATH\n",
    "from textSummarizer.utils.common import read_yaml, create_directories, get_size\n",
    "from textSummarizer.logging import logger\n",
    "\n",
    "# Data Class for Data Ingestion Configuration\n",
    "@dataclass(frozen=True)\n",
    "class DataIngestionConfig:\n",
    "    root_dir: Path\n",
    "    source_URL: str\n",
    "    local_data_file: Path\n",
    "    unzip_dir: Path\n",
    "\n",
    "# Configuration Manager Class\n",
    "class ConfigurationManager:\n",
    "    def __init__(\n",
    "        self,\n",
    "        config_filepath=Path(CONFIG_FILE_PATH),  # Convert to Path\n",
    "        params_filepath=Path(PARAMS_FILE_PATH)   # Convert to Path\n",
    "    ):\n",
    "        self.config = read_yaml(config_filepath)\n",
    "        self.params = read_yaml(params_filepath)\n",
    "\n",
    "        create_directories([self.config.artifacts_root])\n",
    "\n",
    "    def get_data_ingestion_config(self) -> DataIngestionConfig:\n",
    "        config = self.config.data_ingestion\n",
    "\n",
    "        # Convert paths to Path objects\n",
    "        root_dir = Path(config.root_dir)\n",
    "        local_data_file = Path(config.local_data_file)\n",
    "        unzip_dir = Path(config.unzip_dir)\n",
    "\n",
    "        create_directories([root_dir])\n",
    "\n",
    "        data_ingestion_config = DataIngestionConfig(\n",
    "            root_dir=root_dir,\n",
    "            source_URL=config.source_URL,\n",
    "            local_data_file=local_data_file,\n",
    "            unzip_dir=unzip_dir\n",
    "        )\n",
    "\n",
    "        return data_ingestion_config\n",
    "\n",
    "# Data Ingestion Class\n",
    "class DataIngestion:\n",
    "    def __init__(self, config: DataIngestionConfig):\n",
    "        self.config = config\n",
    "\n",
    "    def download_file(self):\n",
    "        if not self.config.local_data_file.exists():\n",
    "            filename, headers = request.urlretrieve(\n",
    "                url=self.config.source_URL,\n",
    "                filename=str(self.config.local_data_file)  # Convert Path to string\n",
    "            )\n",
    "            logger.info(f\"{filename} downloaded! Info:\\n{headers}\")\n",
    "        else:\n",
    "            logger.info(f\"File already exists. Size: {get_size(self.config.local_data_file)}\")\n",
    "\n",
    "    def extract_zip_file(self):\n",
    "        \"\"\"Extracts the zip file into the data directory.\"\"\"\n",
    "        unzip_path = self.config.unzip_dir\n",
    "        os.makedirs(unzip_path, exist_ok=True)\n",
    "\n",
    "        with zipfile.ZipFile(self.config.local_data_file, 'r') as zip_ref:\n",
    "            zip_ref.extractall(unzip_path)\n",
    "            logger.info(f\"Extracted {self.config.local_data_file} to {unzip_path}\")\n",
    "\n",
    "# Running the Code with Exception Handling\n",
    "try:\n",
    "    config = ConfigurationManager()\n",
    "    data_ingestion_config = config.get_data_ingestion_config()\n",
    "    data_ingestion = DataIngestion(config=data_ingestion_config)\n",
    "    data_ingestion.download_file()\n",
    "    data_ingestion.extract_zip_file()\n",
    "except Exception as e:\n",
    "    raise RuntimeError(f\"Error in data ingestion: {e}\")\n"
   ]
  },
  {
   "cell_type": "code",
   "execution_count": null,
   "metadata": {},
   "outputs": [],
   "source": []
  }
 ],
 "metadata": {
  "kernelspec": {
   "display_name": "textS",
   "language": "python",
   "name": "python3"
  },
  "language_info": {
   "codemirror_mode": {
    "name": "ipython",
    "version": 3
   },
   "file_extension": ".py",
   "mimetype": "text/x-python",
   "name": "python",
   "nbconvert_exporter": "python",
   "pygments_lexer": "ipython3",
   "version": "3.8.20"
  }
 },
 "nbformat": 4,
 "nbformat_minor": 2
}
